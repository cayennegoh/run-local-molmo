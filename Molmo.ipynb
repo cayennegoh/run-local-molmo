{
 "cells": [
  {
   "cell_type": "code",
   "execution_count": 1,
   "id": "160b8dba-3cd8-4c70-b03d-d60af6b56c46",
   "metadata": {},
   "outputs": [
    {
     "name": "stdout",
     "output_type": "stream",
     "text": [
      "I am running on: cuda\n"
     ]
    },
    {
     "data": {
      "application/vnd.jupyter.widget-view+json": {
       "model_id": "62eefdfe8d1445ad9c2f4cb24ac4b3c0",
       "version_major": 2,
       "version_minor": 0
      },
      "text/plain": [
       "Loading checkpoint shards:   0%|          | 0/7 [00:00<?, ?it/s]"
      ]
     },
     "metadata": {},
     "output_type": "display_data"
    }
   ],
   "source": [
    "import torch\n",
    "from transformers import AutoModelForCausalLM, AutoProcessor, GenerationConfig\n",
    "from PIL import Image\n",
    "import requests\n",
    "   \n",
    "\n",
    "\n",
    "def get_device_map() -> str:\n",
    "    return 'cuda' if torch.cuda.is_available() else 'cpu'\n",
    "\n",
    "device = get_device_map()\n",
    "\n",
    "print(\"I am running on: \" + device)\n",
    "processor = AutoProcessor.from_pretrained(\n",
    "    'allenai/Molmo-7B-O-0924',\n",
    "    trust_remote_code=True,\n",
    "    use_fast=False,\n",
    "    torch_dtype='auto',\n",
    "    #device_map = device\n",
    "    device_map = \"cpu\"\n",
    "    #device_map = \"cuda\" if torch.cuda.is_available() else device_map == \"cpu\"\n",
    ")\n",
    "\n",
    "model = AutoModelForCausalLM.from_pretrained(\n",
    "    'allenai/Molmo-7B-O-0924',\n",
    "    trust_remote_code=True,\n",
    "    torch_dtype='auto',\n",
    "    low_cpu_mem_usage = True,\n",
    "    #device_map = device\n",
    "    device_map = \"cpu\"\n",
    "    #device_map = \"cuda\" if torch.cuda.is_available() else device_map == \"cpu\"\n",
    ")\n"
   ]
  },
  {
   "cell_type": "code",
   "execution_count": null,
   "id": "c67b8289-74c5-431d-a621-4ca3daf8848c",
   "metadata": {},
   "outputs": [],
   "source": [
    "inputs = processor.process(\n",
    "    images = [Image.open(requests.get(\"https://picsum.photos/id/237/536/354\", stream=True).raw)],\n",
    "    text=\"what animal.\"\n",
    ")\n",
    "inputs = {k: v.to(model.device).unsqueeze(0) for k, v in inputs.items()}\n",
    "\n",
    "output = model.generate_from_batch(\n",
    "    inputs,\n",
    "    GenerationConfig(max_new_tokens=500, stop_strings=\"<|endoftext|>\"),\n",
    "    tokenizer=processor.tokenizer\n",
    ")\n",
    "generated_tokens = output[0,inputs['input_ids'].size(1):]\n",
    "generated_text = processor.tokenizer.decode(generated_tokens, skip_special_tokens=True)\n",
    "print(generated_text)"
   ]
  },
  {
   "cell_type": "code",
   "execution_count": null,
   "id": "e428f1db-67e3-4985-ad9c-c4bdf92ab79e",
   "metadata": {},
   "outputs": [],
   "source": []
  }
 ],
 "metadata": {
  "kernelspec": {
   "display_name": "Python 3 (ipykernel)",
   "language": "python",
   "name": "python3"
  },
  "language_info": {
   "codemirror_mode": {
    "name": "ipython",
    "version": 3
   },
   "file_extension": ".py",
   "mimetype": "text/x-python",
   "name": "python",
   "nbconvert_exporter": "python",
   "pygments_lexer": "ipython3",
   "version": "3.11.11"
  }
 },
 "nbformat": 4,
 "nbformat_minor": 5
}
